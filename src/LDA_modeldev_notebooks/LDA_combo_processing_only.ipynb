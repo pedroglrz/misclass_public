{
 "cells": [
  {
   "cell_type": "markdown",
   "id": "2122cc25-11d6-4b94-9bd1-1dedbc62be2d",
   "metadata": {},
   "source": [
    "## Preprocessing"
   ]
  },
  {
   "cell_type": "code",
   "execution_count": 1,
   "id": "e5d4422c",
   "metadata": {},
   "outputs": [],
   "source": [
    "#set up sys\n",
    "import os, sys\n",
    "sys.path.append('../PMC_func')\n",
    "\n",
    "\n",
    "#python basics\n",
    "import pandas as pd\n",
    "import matplotlib.pyplot as plt\n",
    "import seaborn as sns\n",
    "import numpy as np\n",
    "import logging\n",
    "from collections import Counter\n",
    "\n",
    "#spacy stuff\n",
    "import spacy\n",
    "from spacy.language import Language\n",
    "from spacy.tokens import Doc\n",
    "from spacy.attrs import LOWER, POS, ENT_TYPE, IS_ALPHA, DEP, LEMMA, LOWER, IS_PUNCT, IS_DIGIT, IS_SPACE, IS_STOP\n",
    "import en_core_web_sm\n",
    "\n",
    "#gensim stuff\n",
    "from gensim.models import CoherenceModel, LdaMulticore,LdaModel\n",
    "from gensim.models.callbacks import ConvergenceMetric\n",
    "from gensim.models.phrases import Phrases, ENGLISH_CONNECTOR_WORDS\n",
    "\n",
    "\n",
    "# Plotting tools\n",
    "import pyLDAvis\n",
    "import pyLDAvis.gensim_models as gensimvis  # don't skip this\n",
    "\n",
    "#custom dependencies\n",
    "import PMC_module\n",
    "\n",
    "#other\n",
    "import pickle\n",
    "import warnings\n",
    "warnings.filterwarnings('ignore')"
   ]
  },
  {
   "cell_type": "markdown",
   "id": "c933f6ef",
   "metadata": {},
   "source": [
    "## Import Data"
   ]
  },
  {
   "cell_type": "code",
   "execution_count": 2,
   "id": "e3594784",
   "metadata": {},
   "outputs": [],
   "source": [
    "#Import Data\n",
    "path = '/Users/pedrogalarza/Documents/NYU-MSDS/2021_police-misconduct/misclass'\n",
    "narratives_path = os.path.join(path, 'data/cpd',\"narratives.csv\")\n",
    "narratives = pd.read_csv(narratives_path)\n",
    "intake = narratives.column_name.str.contains('take')\n",
    "narratives = (narratives[intake])[[\"cr_id\", \"column_name\", \"text\"]]\n",
    "narratives = narratives.drop_duplicates()\n",
    "df = narratives[:].copy()\n",
    "df_list = df.text.values.tolist() #store documents as list of lists"
   ]
  },
  {
   "cell_type": "markdown",
   "id": "bd3b1c10",
   "metadata": {},
   "source": [
    "### Preprocessing\n",
    "#### Input Normalization"
   ]
  },
  {
   "cell_type": "code",
   "execution_count": 3,
   "id": "ed96d4a5",
   "metadata": {},
   "outputs": [],
   "source": [
    "#input normalization with duplicate removal\n",
    "input_list_normalization = PMC_module.input_normalization(texts = df_list)\n",
    "df_list_normalized = input_list_normalization.normalization_lower()\\\n",
    "                                                 .normalization_whitespace()\\\n",
    "                                                     .strip_accents()\\\n",
    "                                                         .normalization_remove_repeats()\\\n",
    "                                                             .texts"
   ]
  },
  {
   "cell_type": "code",
   "execution_count": 4,
   "id": "2128c767",
   "metadata": {},
   "outputs": [],
   "source": [
    "#input normalization with out duplicate removal\n",
    "input_list_normalization_keep_repeats = PMC_module.input_normalization(texts = df_list)\n",
    "df_list_normalized_keep_repeats = input_list_normalization_keep_repeats.normalization_lower()\\\n",
    "                                                 .normalization_whitespace()\\\n",
    "                                                     .strip_accents()\\\n",
    "                                                        .texts"
   ]
  },
  {
   "cell_type": "code",
   "execution_count": 5,
   "id": "94b58f6e",
   "metadata": {},
   "outputs": [
    {
     "name": "stdout",
     "output_type": "stream",
     "text": [
      "number of texts with repeat: 994\n"
     ]
    }
   ],
   "source": [
    "#count number of district entries between input normalization techiques\n",
    "repeat_entry_count = sum(np.array(df_list_normalized) != np.array(df_list_normalized_keep_repeats))\n",
    "print('number of texts with repeat:', repeat_entry_count)"
   ]
  },
  {
   "cell_type": "markdown",
   "id": "a4f87fa6",
   "metadata": {},
   "source": [
    "#### Spacy Filtering and Lemmatization - After Repeat Filtering"
   ]
  },
  {
   "cell_type": "code",
   "execution_count": 6,
   "id": "8dcd089f",
   "metadata": {},
   "outputs": [],
   "source": [
    "#stream spacy docs into lemmatization functions\n",
    "nlp = spacy.load('en_core_web_sm')\n",
    "\n",
    "lemmatized_texts = []\n",
    "for doc in nlp.pipe(df_list_normalized, batch_size=20):\n",
    "    spacy_tokenizer_test = PMC_module.spacy_filters(doc = doc)\n",
    "    lemmatized_doc = spacy_tokenizer_test.filter_length()\\\n",
    "                                .filter_stop()\\\n",
    "                                    .filter_punc()\\\n",
    "                                        .filter_pos()\\\n",
    "                                            .extract_lemmas()\\\n",
    "                                                .bag_of_lem\n",
    "\n",
    "    lemmatized_texts.append(lemmatized_doc)"
   ]
  },
  {
   "cell_type": "markdown",
   "id": "077338b8",
   "metadata": {},
   "source": [
    "#### Filter Lengths - Implementation"
   ]
  },
  {
   "cell_type": "code",
   "execution_count": 7,
   "id": "c14ee75e",
   "metadata": {},
   "outputs": [],
   "source": [
    "#join into composite data frame\n",
    "df_lemmatized_texts = df.copy()\n",
    "df_lemmatized_texts['bag_of_lemmas'] = lemmatized_texts\n",
    "df_lemmatized_texts['BoL_length'] = df_lemmatized_texts.apply(lambda row: len(row['bag_of_lemmas']),axis=1)\n",
    "df_filtered_lemmatized_texts = df_lemmatized_texts.copy()\n",
    "df_filtered_lemmatized_texts = df_filtered_lemmatized_texts[df_filtered_lemmatized_texts['BoL_length'] >= 10]\n",
    "df_filtered_lemmatized_texts[\"row_number\"] = df_filtered_lemmatized_texts.reset_index().index\n",
    "\n",
    "#store lemmas into list for gensim processing\n",
    "nogram_list_lemmatized_texts = df_filtered_lemmatized_texts.bag_of_lemmas.to_list()"
   ]
  },
  {
   "cell_type": "markdown",
   "id": "786e46c9",
   "metadata": {},
   "source": [
    "#### Filter Legths - Print effect"
   ]
  },
  {
   "cell_type": "code",
   "execution_count": 8,
   "id": "4c9e285a",
   "metadata": {},
   "outputs": [
    {
     "name": "stdout",
     "output_type": "stream",
     "text": [
      "number of documents before filtering bag length: 42896\n",
      "number of documents after filtering bag length: 33979\n",
      "Percentage of Remaining Vocabulary After Filtering Length: 0.7921251398731817\n"
     ]
    }
   ],
   "source": [
    "pct_remaining = len(df_filtered_lemmatized_texts)/len(df_lemmatized_texts)\n",
    "\n",
    "print('number of documents before filtering bag length:', len(df_lemmatized_texts))\n",
    "print('number of documents after filtering bag length:', len(df_filtered_lemmatized_texts))\n",
    "print(\"Percentage of Remaining Vocabulary After Filtering Length:\", pct_remaining)"
   ]
  },
  {
   "cell_type": "markdown",
   "id": "657c31d6",
   "metadata": {},
   "source": [
    "### Gensim Vectorizing\n",
    "#### N-gram Contruction"
   ]
  },
  {
   "cell_type": "code",
   "execution_count": 14,
   "id": "8a165a39",
   "metadata": {},
   "outputs": [],
   "source": [
    "bigram = Phrases(nogram_list_lemmatized_texts, min_count=3, threshold=10,connector_words=ENGLISH_CONNECTOR_WORDS)\n",
    "\n",
    "bigram_list_lemmatized_texts = list(bigram[nogram_list_lemmatized_texts])\n",
    "trigram = Phrases(bigram_list_lemmatized_texts, min_count=3, threshold=10,connector_words=ENGLISH_CONNECTOR_WORDS)\n",
    "trigram_list_lemmatized_texts = list(trigram[bigram_list_lemmatized_texts])"
   ]
  },
  {
   "cell_type": "markdown",
   "id": "54925690",
   "metadata": {},
   "source": [
    "#### Contruct to Gensim Corpus Objects"
   ]
  },
  {
   "cell_type": "code",
   "execution_count": 10,
   "id": "7e5b2fdb",
   "metadata": {},
   "outputs": [
    {
     "name": "stdout",
     "output_type": "stream",
     "text": [
      "Percentage of Remaining Vocabulary After Filtering Extremes:  0.12273273083486065\n",
      "Percentage of Remaining Vocabulary After Filtering Extremes:  0.10932328529965885\n",
      "Percentage of Remaining Vocabulary After Filtering Extremes:  0.09803045866642847\n"
     ]
    }
   ],
   "source": [
    "corpus, id2word = PMC_module.gensim_vectorizing(nogram_list_lemmatized_texts,lower=20, upper=.5)\n",
    "bi_corpus, bi_id2word = PMC_module.gensim_vectorizing(bigram_list_lemmatized_texts,lower=20, upper=.5)\n",
    "tri_corpus, tri_id2word = PMC_module.gensim_vectorizing(trigram_list_lemmatized_texts,lower=20, upper=.5)"
   ]
  },
  {
   "cell_type": "markdown",
   "id": "934ba28b",
   "metadata": {},
   "source": [
    "#### Construct Composite Data Frame\n",
    "- Convert Gensim Processed Document Vectors into Dictionaries\n",
    "- Store Frequency dictionaries into dataframe\n"
   ]
  },
  {
   "cell_type": "code",
   "execution_count": 15,
   "id": "ae4442fb",
   "metadata": {},
   "outputs": [
    {
     "data": {
      "text/html": [
       "<div>\n",
       "<style scoped>\n",
       "    .dataframe tbody tr th:only-of-type {\n",
       "        vertical-align: middle;\n",
       "    }\n",
       "\n",
       "    .dataframe tbody tr th {\n",
       "        vertical-align: top;\n",
       "    }\n",
       "\n",
       "    .dataframe thead th {\n",
       "        text-align: right;\n",
       "    }\n",
       "</style>\n",
       "<table border=\"1\" class=\"dataframe\">\n",
       "  <thead>\n",
       "    <tr style=\"text-align: right;\">\n",
       "      <th></th>\n",
       "      <th>cr_id</th>\n",
       "      <th>column_name</th>\n",
       "      <th>text</th>\n",
       "      <th>bag_of_lemmas</th>\n",
       "      <th>BoL_length</th>\n",
       "      <th>row_number</th>\n",
       "      <th>gensim_nogram</th>\n",
       "      <th>gensim_bigram</th>\n",
       "      <th>gensim_trigram</th>\n",
       "    </tr>\n",
       "  </thead>\n",
       "  <tbody>\n",
       "    <tr>\n",
       "      <th>1</th>\n",
       "      <td>1049924</td>\n",
       "      <td>Initial / Intake Allegation</td>\n",
       "      <td>THE REPORTING PARTY, WHO DID NOT\\nWITNESS THE ...</td>\n",
       "      <td>[reporting, party, witness, incident, allege, ...</td>\n",
       "      <td>14</td>\n",
       "      <td>0</td>\n",
       "      <td>{'dog': 1, 'enter': 1, 'incident': 1, 'justifi...</td>\n",
       "      <td>{'enter': 1, 'justification': 1, 'reference_lo...</td>\n",
       "      <td>{'enter_residence': 1, 'justification': 1, 're...</td>\n",
       "    </tr>\n",
       "    <tr>\n",
       "      <th>5</th>\n",
       "      <td>1050193</td>\n",
       "      <td>Initial / Intake Allegation</td>\n",
       "      <td>It is reported that the accused officer failed...</td>\n",
       "      <td>[report, accuse, officer, fail, terminate, mot...</td>\n",
       "      <td>44</td>\n",
       "      <td>1</td>\n",
       "      <td>{'fail': 4, 'motor': 4, 'order': 4, 'pursuit':...</td>\n",
       "      <td>{'fail': 4, 'order': 4, 'pursuit': 4, 'report'...</td>\n",
       "      <td>{'fail': 4, 'order': 4, 'pursuit': 4, 'report'...</td>\n",
       "    </tr>\n",
       "    <tr>\n",
       "      <th>9</th>\n",
       "      <td>1050294</td>\n",
       "      <td>Initial / Intake Allegation</td>\n",
       "      <td>The reporting party (aD\\nalleges that he was b...</td>\n",
       "      <td>[reporting, party, allege, beat, bouncer, club...</td>\n",
       "      <td>72</td>\n",
       "      <td>2</td>\n",
       "      <td>{'incident': 1, 'fail': 2, 'report': 1, 'serge...</td>\n",
       "      <td>{'fail': 2, 'report': 1, 'sergeant': 1, 'vehic...</td>\n",
       "      <td>{'fail': 2, 'report': 1, 'sergeant': 1, 'vehic...</td>\n",
       "    </tr>\n",
       "    <tr>\n",
       "      <th>12</th>\n",
       "      <td>1050294</td>\n",
       "      <td>Initial / Intake Allegation</td>\n",
       "      <td>The reporting party\\nalleges that an unknown o...</td>\n",
       "      <td>[reporting, party, allege, unknown, officer, t...</td>\n",
       "      <td>70</td>\n",
       "      <td>3</td>\n",
       "      <td>{'incident': 1, 'fail': 2, 'report': 1, 'serge...</td>\n",
       "      <td>{'fail': 2, 'report': 1, 'sergeant': 1, 'vehic...</td>\n",
       "      <td>{'fail': 2, 'report': 1, 'sergeant': 1, 'vehic...</td>\n",
       "    </tr>\n",
       "    <tr>\n",
       "      <th>17</th>\n",
       "      <td>1050588</td>\n",
       "      <td>Initial / Intake Allegation</td>\n",
       "      <td>The reporting party alleges that several\\nplai...</td>\n",
       "      <td>[reporting, party, allege, plainclothe, office...</td>\n",
       "      <td>64</td>\n",
       "      <td>4</td>\n",
       "      <td>{'fail': 1, 'reason': 1, 'unknown': 3, 'appare...</td>\n",
       "      <td>{'fail': 1, 'unknown': 3, 'apparent_reason': 1...</td>\n",
       "      <td>{'unknown': 3, 'apparent_reason': 1, 'arrest':...</td>\n",
       "    </tr>\n",
       "    <tr>\n",
       "      <th>...</th>\n",
       "      <td>...</td>\n",
       "      <td>...</td>\n",
       "      <td>...</td>\n",
       "      <td>...</td>\n",
       "      <td>...</td>\n",
       "      <td>...</td>\n",
       "      <td>...</td>\n",
       "      <td>...</td>\n",
       "      <td>...</td>\n",
       "    </tr>\n",
       "    <tr>\n",
       "      <th>77207</th>\n",
       "      <td>1069346</td>\n",
       "      <td>Initial / Intake Allegation</td>\n",
       "      <td>The victim alleges that her white Iphone\\nwhic...</td>\n",
       "      <td>[victim, allege, white, iphone, person, time, ...</td>\n",
       "      <td>10</td>\n",
       "      <td>33974</td>\n",
       "      <td>{'time': 1, 'arrest': 1, 'victim': 1, 'white':...</td>\n",
       "      <td>{'time': 1, 'arrest': 1, 'victim': 1, 'white':...</td>\n",
       "      <td>{'time': 1, 'arrest': 1, 'victim': 1, 'white':...</td>\n",
       "    </tr>\n",
       "    <tr>\n",
       "      <th>77212</th>\n",
       "      <td>1069383</td>\n",
       "      <td>Initial / Intake Allegation</td>\n",
       "      <td>It is reported that after the arrest of the\\nw...</td>\n",
       "      <td>[report, arrest, witness, vehicle, unknown, of...</td>\n",
       "      <td>11</td>\n",
       "      <td>33975</td>\n",
       "      <td>{'witness': 1, 'fail': 1, 'report': 1, 'vehicl...</td>\n",
       "      <td>{'fail': 1, 'report': 1, 'vehicle': 1, 'unknow...</td>\n",
       "      <td>{'report': 1, 'vehicle': 1, 'unknown': 1, 'arr...</td>\n",
       "    </tr>\n",
       "    <tr>\n",
       "      <th>77214</th>\n",
       "      <td>1069617</td>\n",
       "      <td>Initial / Intake Allegation</td>\n",
       "      <td>THE REPORTING PARTY ALLEGES THAT\\nONE THE ACCU...</td>\n",
       "      <td>[reporting, party, allege, accuse, officer, se...</td>\n",
       "      <td>33</td>\n",
       "      <td>33976</td>\n",
       "      <td>{'justification': 1, 'vehicle': 2, 'search': 2...</td>\n",
       "      <td>{'justification': 1, 'vehicle': 2, 'state': 3,...</td>\n",
       "      <td>{'justification': 1, 'vehicle': 2, 'state': 3,...</td>\n",
       "    </tr>\n",
       "    <tr>\n",
       "      <th>77216</th>\n",
       "      <td>1069693</td>\n",
       "      <td>Initial / Intake Allegation</td>\n",
       "      <td>THE REPORTING PARTY ALLEGES THAT\\nTHE DEPARTME...</td>\n",
       "      <td>[reporting, party, allege, department, member,...</td>\n",
       "      <td>10</td>\n",
       "      <td>33977</td>\n",
       "      <td>{'damage': 1, 'cause': 1, 'department': 1, 'me...</td>\n",
       "      <td>{'damage': 1, 'cause': 1, 'department_member':...</td>\n",
       "      <td>{'department_member': 1, 'drive': 1, 'sidewalk...</td>\n",
       "    </tr>\n",
       "    <tr>\n",
       "      <th>77218</th>\n",
       "      <td>1069745</td>\n",
       "      <td>Initial / Intake Allegation</td>\n",
       "      <td>It is reported that an unknown officer\\nfailed...</td>\n",
       "      <td>[report, unknown, officer, fail, inspect, vehi...</td>\n",
       "      <td>17</td>\n",
       "      <td>33978</td>\n",
       "      <td>{'fail': 1, 'report': 2, 'vehicle': 1, 'beat':...</td>\n",
       "      <td>{'fail': 1, 'report': 2, 'vehicle': 1, 'beat':...</td>\n",
       "      <td>{'fail': 1, 'report': 2, 'vehicle': 1, 'beat':...</td>\n",
       "    </tr>\n",
       "  </tbody>\n",
       "</table>\n",
       "<p>33979 rows × 9 columns</p>\n",
       "</div>"
      ],
      "text/plain": [
       "         cr_id                  column_name  \\\n",
       "1      1049924  Initial / Intake Allegation   \n",
       "5      1050193  Initial / Intake Allegation   \n",
       "9      1050294  Initial / Intake Allegation   \n",
       "12     1050294  Initial / Intake Allegation   \n",
       "17     1050588  Initial / Intake Allegation   \n",
       "...        ...                          ...   \n",
       "77207  1069346  Initial / Intake Allegation   \n",
       "77212  1069383  Initial / Intake Allegation   \n",
       "77214  1069617  Initial / Intake Allegation   \n",
       "77216  1069693  Initial / Intake Allegation   \n",
       "77218  1069745  Initial / Intake Allegation   \n",
       "\n",
       "                                                    text  \\\n",
       "1      THE REPORTING PARTY, WHO DID NOT\\nWITNESS THE ...   \n",
       "5      It is reported that the accused officer failed...   \n",
       "9      The reporting party (aD\\nalleges that he was b...   \n",
       "12     The reporting party\\nalleges that an unknown o...   \n",
       "17     The reporting party alleges that several\\nplai...   \n",
       "...                                                  ...   \n",
       "77207  The victim alleges that her white Iphone\\nwhic...   \n",
       "77212  It is reported that after the arrest of the\\nw...   \n",
       "77214  THE REPORTING PARTY ALLEGES THAT\\nONE THE ACCU...   \n",
       "77216  THE REPORTING PARTY ALLEGES THAT\\nTHE DEPARTME...   \n",
       "77218  It is reported that an unknown officer\\nfailed...   \n",
       "\n",
       "                                           bag_of_lemmas  BoL_length  \\\n",
       "1      [reporting, party, witness, incident, allege, ...          14   \n",
       "5      [report, accuse, officer, fail, terminate, mot...          44   \n",
       "9      [reporting, party, allege, beat, bouncer, club...          72   \n",
       "12     [reporting, party, allege, unknown, officer, t...          70   \n",
       "17     [reporting, party, allege, plainclothe, office...          64   \n",
       "...                                                  ...         ...   \n",
       "77207  [victim, allege, white, iphone, person, time, ...          10   \n",
       "77212  [report, arrest, witness, vehicle, unknown, of...          11   \n",
       "77214  [reporting, party, allege, accuse, officer, se...          33   \n",
       "77216  [reporting, party, allege, department, member,...          10   \n",
       "77218  [report, unknown, officer, fail, inspect, vehi...          17   \n",
       "\n",
       "       row_number                                      gensim_nogram  \\\n",
       "1               0  {'dog': 1, 'enter': 1, 'incident': 1, 'justifi...   \n",
       "5               1  {'fail': 4, 'motor': 4, 'order': 4, 'pursuit':...   \n",
       "9               2  {'incident': 1, 'fail': 2, 'report': 1, 'serge...   \n",
       "12              3  {'incident': 1, 'fail': 2, 'report': 1, 'serge...   \n",
       "17              4  {'fail': 1, 'reason': 1, 'unknown': 3, 'appare...   \n",
       "...           ...                                                ...   \n",
       "77207       33974  {'time': 1, 'arrest': 1, 'victim': 1, 'white':...   \n",
       "77212       33975  {'witness': 1, 'fail': 1, 'report': 1, 'vehicl...   \n",
       "77214       33976  {'justification': 1, 'vehicle': 2, 'search': 2...   \n",
       "77216       33977  {'damage': 1, 'cause': 1, 'department': 1, 'me...   \n",
       "77218       33978  {'fail': 1, 'report': 2, 'vehicle': 1, 'beat':...   \n",
       "\n",
       "                                           gensim_bigram  \\\n",
       "1      {'enter': 1, 'justification': 1, 'reference_lo...   \n",
       "5      {'fail': 4, 'order': 4, 'pursuit': 4, 'report'...   \n",
       "9      {'fail': 2, 'report': 1, 'sergeant': 1, 'vehic...   \n",
       "12     {'fail': 2, 'report': 1, 'sergeant': 1, 'vehic...   \n",
       "17     {'fail': 1, 'unknown': 3, 'apparent_reason': 1...   \n",
       "...                                                  ...   \n",
       "77207  {'time': 1, 'arrest': 1, 'victim': 1, 'white':...   \n",
       "77212  {'fail': 1, 'report': 1, 'vehicle': 1, 'unknow...   \n",
       "77214  {'justification': 1, 'vehicle': 2, 'state': 3,...   \n",
       "77216  {'damage': 1, 'cause': 1, 'department_member':...   \n",
       "77218  {'fail': 1, 'report': 2, 'vehicle': 1, 'beat':...   \n",
       "\n",
       "                                          gensim_trigram  \n",
       "1      {'enter_residence': 1, 'justification': 1, 're...  \n",
       "5      {'fail': 4, 'order': 4, 'pursuit': 4, 'report'...  \n",
       "9      {'fail': 2, 'report': 1, 'sergeant': 1, 'vehic...  \n",
       "12     {'fail': 2, 'report': 1, 'sergeant': 1, 'vehic...  \n",
       "17     {'unknown': 3, 'apparent_reason': 1, 'arrest':...  \n",
       "...                                                  ...  \n",
       "77207  {'time': 1, 'arrest': 1, 'victim': 1, 'white':...  \n",
       "77212  {'report': 1, 'vehicle': 1, 'unknown': 1, 'arr...  \n",
       "77214  {'justification': 1, 'vehicle': 2, 'state': 3,...  \n",
       "77216  {'department_member': 1, 'drive': 1, 'sidewalk...  \n",
       "77218  {'fail': 1, 'report': 2, 'vehicle': 1, 'beat':...  \n",
       "\n",
       "[33979 rows x 9 columns]"
      ]
     },
     "execution_count": 15,
     "metadata": {},
     "output_type": "execute_result"
    }
   ],
   "source": [
    "df_filtered_lemmatized_texts[\"gensim_nogram\"] =  df_filtered_lemmatized_texts.apply(lambda row: PMC_module.corp2dict(row.row_number,corpus, id2word),axis=1)\n",
    "df_filtered_lemmatized_texts[\"gensim_bigram\"] =  df_filtered_lemmatized_texts.apply(lambda row: PMC_module.corp2dict(row.row_number,bi_corpus, bi_id2word),axis=1)\n",
    "df_filtered_lemmatized_texts[\"gensim_trigram\"] =  df_filtered_lemmatized_texts.apply(lambda row: PMC_module.corp2dict(row.row_number,tri_corpus, tri_id2word),axis=1)\n",
    "df_filtered_lemmatized_texts"
   ]
  },
  {
   "cell_type": "markdown",
   "id": "3215a76a",
   "metadata": {},
   "source": [
    "#### Pickle data frame"
   ]
  },
  {
   "cell_type": "code",
   "execution_count": 16,
   "id": "86d384ce",
   "metadata": {},
   "outputs": [],
   "source": [
    "df_filtered_lemmatized_texts.to_pickle(\"../pickled_data/df_lemmatized_texts.pkl\")"
   ]
  },
  {
   "cell_type": "markdown",
   "id": "6e35c5b2",
   "metadata": {},
   "source": [
    "#### Pickle Text List, Gensim Corpus, and Gensim id2wrod dict"
   ]
  },
  {
   "cell_type": "code",
   "execution_count": 17,
   "id": "a432235b",
   "metadata": {},
   "outputs": [],
   "source": [
    "nogram_filename = \"../pickled_data/nogram_corpus.pkl\"\n",
    "bigram_filename = \"../pickled_data/bigram_corpus.pkl\"\n",
    "trigram_filename = \"../pickled_data/trigram_corpus.pkl\"\n",
    "\n",
    "\n",
    "nogram_data = (nogram_list_lemmatized_texts,corpus, id2word)\n",
    "with open(nogram_filename, \"wb\") as f:\n",
    "    pickle.dump(nogram_data, f)\n",
    "\n",
    "bigram_data = (bigram_list_lemmatized_texts,bi_corpus, bi_id2word)\n",
    "with open(bigram_filename, \"wb\") as g:\n",
    "    pickle.dump(bigram_data, g)\n",
    "    \n",
    "trigram_data = (trigram_list_lemmatized_texts,tri_corpus, tri_id2word)\n",
    "with open(trigram_filename, \"wb\") as h:\n",
    "    pickle.dump(trigram_data, h)"
   ]
  }
 ],
 "metadata": {
  "kernelspec": {
   "display_name": "Python 3 (ipykernel)",
   "language": "python",
   "name": "python3"
  },
  "language_info": {
   "codemirror_mode": {
    "name": "ipython",
    "version": 3
   },
   "file_extension": ".py",
   "mimetype": "text/x-python",
   "name": "python",
   "nbconvert_exporter": "python",
   "pygments_lexer": "ipython3",
   "version": "3.9.4"
  }
 },
 "nbformat": 4,
 "nbformat_minor": 5
}
